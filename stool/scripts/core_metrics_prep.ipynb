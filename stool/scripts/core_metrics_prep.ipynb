{
 "cells": [
  {
   "attachments": {},
   "cell_type": "markdown",
   "metadata": {},
   "source": [
    "## Running core metrics diversity preparation commands in qiime2 on the total sum scaled data"
   ]
  },
  {
   "attachments": {},
   "cell_type": "markdown",
   "metadata": {},
   "source": [
    "need to first convert my tsv file to a qza file to run the core diversity analysis"
   ]
  },
  {
   "cell_type": "code",
   "execution_count": 3,
   "metadata": {},
   "outputs": [],
   "source": [
    "## converting my tsv to a biom table as an intermediate\n",
    "! biom convert \\\n",
    "    -i ../data/qiime/total_sum_scaling.tsv \\\n",
    "    -o ../data/qiime/total_sum_scaling.biom \\\n",
    "    --table-type \"Table\" \\\n",
    "    --to-hdf5"
   ]
  },
  {
   "cell_type": "code",
   "execution_count": 1,
   "metadata": {},
   "outputs": [
    {
     "name": "stdout",
     "output_type": "stream",
     "text": [
      "\u001b[32mImported ../data/qiime/total_sum_scaling.biom as BIOMV210DirFmt to ../data/qiime/total_sum_scaling.qza\u001b[0m\n",
      "\u001b[0m"
     ]
    }
   ],
   "source": [
    "## converting my new biom table to a qza file \n",
    "! qiime tools import \\\n",
    "    --input-path ../data/qiime/total_sum_scaling.biom \\\n",
    "    --type 'FeatureTable[Frequency]' \\\n",
    "    --output-path ../data/qiime/total_sum_scaling.qza"
   ]
  },
  {
   "attachments": {},
   "cell_type": "markdown",
   "metadata": {},
   "source": [
    "converting the rep-seqs to a fasta file (updated as of May 16, 2023)"
   ]
  },
  {
   "cell_type": "code",
   "execution_count": 6,
   "metadata": {},
   "outputs": [
    {
     "name": "stdout",
     "output_type": "stream",
     "text": [
      "\u001b[32mExported /Users/madiapgar/gut_microbiome_metabolomics/CaseyandMadi/euk_filt-mergedDietAim1rep-seqs_051523-Copy1.qza as DNASequencesDirectoryFormat to directory /Users/madiapgar/gut_microbiome_metabolomics/total_sum_scaled/updated\u001b[0m\n",
      "\u001b[0m"
     ]
    }
   ],
   "source": [
    "! qiime tools export \\\n",
    "    --input-path ../data/misc/euk_filt-mergedDietAim1rep-seqs_051523-Copy1.qza \\\n",
    "    --output-path ../data/misc"
   ]
  },
  {
   "attachments": {},
   "cell_type": "markdown",
   "metadata": {},
   "source": [
    "need to use my rep seqs file to generate a phylogenetic tree via sepp"
   ]
  },
  {
   "cell_type": "code",
   "execution_count": 8,
   "metadata": {},
   "outputs": [
    {
     "name": "stdout",
     "output_type": "stream",
     "text": [
      "^C\n"
     ]
    }
   ],
   "source": [
    "## need to fix the next like with the correct file path to the silva database\n",
    "! qiime fragment-insertion sepp \\\n",
    "--i-representative-sequences ../data/misc/euk_filt-mergedDietAim1rep-seqs_051523-Copy1.qza \\\n",
    "--i-reference-database ../databases/sepp-refs-silva-128.qza \\\n",
    "--o-tree ../data/qiime/tree.qza \\\n",
    "--o-placements ../data/qiime/placements.qza"
   ]
  },
  {
   "attachments": {},
   "cell_type": "markdown",
   "metadata": {},
   "source": [
    "need to filter the sepp phylogenic tree via my biom table to only include relevant ASVs"
   ]
  },
  {
   "cell_type": "code",
   "execution_count": null,
   "metadata": {},
   "outputs": [],
   "source": [
    "! qiime fragment-insertion filter-features \\\n",
    "--i-table ../data/qiime/total_sum_scaling.qza \\\n",
    "--i-tree ../data/qiime/tree.qza \\\n",
    "--o-filtered-table ../data/qiime/total_sum_filt_table.qza \\\n",
    "--o-removed-table ../data/qiime/total_sum_rem_table.qza"
   ]
  },
  {
   "attachments": {},
   "cell_type": "markdown",
   "metadata": {},
   "source": [
    "generation of taxonomic classification and filtering steps before alpha and beta diversity analysis"
   ]
  },
  {
   "cell_type": "code",
   "execution_count": null,
   "metadata": {},
   "outputs": [],
   "source": [
    "## same with this next line!!\n",
    "! qiime feature-classifier classify-sklearn \\\n",
    "--i-classifier ../databases/silva-138-99-515-806-nb-classifier.qza \\\n",
    "--i-reads ../data/misc/euk_filt-mergedDietAim1rep-seqs_051523-Copy1.qza \\\n",
    "--o-classification ../data/qiime/taxonomy.qza"
   ]
  },
  {
   "cell_type": "code",
   "execution_count": null,
   "metadata": {},
   "outputs": [],
   "source": [
    "## filtering my taxonomic table \n",
    "! qiime taxa filter-table \\\n",
    "--i-table ../data/qiime/total_sum_scaling.qza \\\n",
    "--i-taxonomy ../data/qiime/taxonomy.qza \\\n",
    "--p-include p_ \\\n",
    "--p-exclude mitochondria,chloroplast \\\n",
    "--o-filtered-table ../data/qiime/taxonomy_filtered.qza"
   ]
  },
  {
   "cell_type": "code",
   "execution_count": null,
   "metadata": {},
   "outputs": [],
   "source": [
    "## i'm creating a visualization for my taxonomic filtered table and I will be able to use that table for my alpha/beta\n",
    "## diversity aanlysis and building my taxa bar chart \n",
    "! qiime feature-table summarize \\\n",
    "--i-table ../data/qiime/taxonomy_filtered.qza \\\n",
    "--o-visualization ../data/qiime/taxonomy_filtered.qzv"
   ]
  },
  {
   "attachments": {},
   "cell_type": "markdown",
   "metadata": {},
   "source": [
    "some of my samples couldn't go through core metrics so I had to filter them out of the taxonomic table using my metadata file before I could re-run core metrics\n"
   ]
  },
  {
   "cell_type": "code",
   "execution_count": null,
   "metadata": {},
   "outputs": [],
   "source": [
    "! qiime feature-table filter-samples \\\n",
    "    --i-table ../data/qiime/taxonomy_filtered.qza \\\n",
    "    --m-metadata-file ../data/misc/merged_metadata1.tsv \\\n",
    "    --o-filtered-table ../data/qiime/tax_filt_actual.qza"
   ]
  },
  {
   "cell_type": "markdown",
   "metadata": {},
   "source": [
    "## Core metrics diversity analysis on my total sum scaled data "
   ]
  },
  {
   "cell_type": "markdown",
   "metadata": {},
   "source": [
    "now I can run my core metrics diversity since I have two qza files\n",
    " -- need to know my sampling depth from my filtered table before I can do this"
   ]
  },
  {
   "cell_type": "code",
   "execution_count": null,
   "metadata": {},
   "outputs": [],
   "source": [
    "! qiime diversity core-metrics-phylogenetic \\\n",
    "--i-phylogeny ../data/qiime/tree.qza \\\n",
    "--i-table ../data/qiime/taxonomy_filtered.qza \\\n",
    "--p-sampling-depth  99976 \\\n",
    "--m-metadata-file ../data/misc/merged_metadata1.tsv \\\n",
    "--output-dir ../data/qiime/core_outputs"
   ]
  }
 ],
 "metadata": {
  "kernelspec": {
   "display_name": "qiime2-2022.11",
   "language": "python",
   "name": "python3"
  },
  "language_info": {
   "codemirror_mode": {
    "name": "ipython",
    "version": 3
   },
   "file_extension": ".py",
   "mimetype": "text/x-python",
   "name": "python",
   "nbconvert_exporter": "python",
   "pygments_lexer": "ipython3",
   "version": "3.8.16"
  },
  "orig_nbformat": 4
 },
 "nbformat": 4,
 "nbformat_minor": 2
}
